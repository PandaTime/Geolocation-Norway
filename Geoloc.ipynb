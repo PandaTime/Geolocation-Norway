{
 "cells": [
  {
   "cell_type": "code",
   "execution_count": 2,
   "metadata": {
    "collapsed": false
   },
   "outputs": [],
   "source": [
    "import matplotlib\n",
    "import matplotlib.path as mplPath\n",
    "from descartes import PolygonPatch\n",
    "import numpy as np\n",
    "import matplotlib.pyplot as plt\n",
    "import gmplot\n",
    "import itertools\n",
    "import requests\n",
    "import json\n",
    "import csv\n",
    "from IPython.core.display import display\n",
    "from IPython.lib.display import IFrame\n",
    "import os\n",
    "import copy\n",
    "%matplotlib inline\n",
    "#%matplotlib auto\n"
   ]
  },
  {
   "cell_type": "code",
   "execution_count": 189,
   "metadata": {
    "collapsed": true
   },
   "outputs": [],
   "source": [
    "df1 = pd.read_csv('Postlist.csv', converters={'Postnummer': lambda x: str(x)})"
   ]
  },
  {
   "cell_type": "markdown",
   "metadata": {},
   "source": [
    "## shp to csv(unused)"
   ]
  },
  {
   "cell_type": "code",
   "execution_count": 72,
   "metadata": {
    "collapsed": true
   },
   "outputs": [],
   "source": [
    "\n",
    "# пропускай это, я делал через geoJSON\n",
    "\n",
    "import ogr,csv,sys # conda install gdal\n",
    "\n",
    "shpfile=r'./Grensedata_Norge_UTM33_Postsoner/dpg_f.shp' #sys.argv[1]\n",
    "csvfile=r'./dpg_l.csv' #sys.argv[2]\n",
    "\n",
    "#Open files\n",
    "csvfile=open(csvfile,'wb')\n",
    "ds=ogr.Open(shpfile)\n",
    "lyr=ds.GetLayer()\n",
    "\n",
    "#Get field names\n",
    "dfn=lyr.GetLayerDefn()\n",
    "nfields=dfn.GetFieldCount()\n",
    "fields=[]\n",
    "for i in range(nfields):\n",
    "    fields.append(dfn.GetFieldDefn(i).GetName())\n",
    "fields.append('kmlgeometry')\n",
    "csvwriter = csv.DictWriter(csvfile, fields)\n",
    "try:csvwriter.writeheader() #python 2.7+\n",
    "except:csvfile.write(','.join(fields)+'\\n')\n",
    "\n",
    "# Write attributes and kml out to csv\n",
    "for feat in lyr:\n",
    "    attributes=feat.items()\n",
    "    geom=feat.GetGeometryRef()\n",
    "    attributes['kmlgeometry']=geom.ExportToKML()\n",
    "    csvwriter.writerow(attributes)\n",
    "\n",
    "#clean up\n",
    "del csvwriter,lyr,ds\n",
    "csvfile.close()"
   ]
  },
  {
   "cell_type": "code",
   "execution_count": 243,
   "metadata": {
    "collapsed": false
   },
   "outputs": [],
   "source": [
    "result = []\n",
    "with open('geocsv_rigth.csv', 'rb') as csvfile:\n",
    "    spamreader = csv.reader(csvfile, delimiter=',', quotechar='\"')\n",
    "    for row in spamreader:\n",
    "        if(spamreader.line_num != 1):\n",
    "            row[0] = [[x.split(' ')[-1], x.split(' ')[0]] for x in row[0].replace('POLYGON ', '')\\\n",
    "                                                                          .replace('(', '')\\\n",
    "                                                                          .replace(\")\", '')\\\n",
    "                                                                                  .split(',')]\n",
    "        result.append(row)\n",
    "#print result[1]#.replace('POLYGON ((', '').replace(\"))\", '')"
   ]
  },
  {
   "cell_type": "code",
   "execution_count": 186,
   "metadata": {
    "collapsed": false
   },
   "outputs": [],
   "source": [
    "#print result[1][0]"
   ]
  },
  {
   "cell_type": "code",
   "execution_count": 187,
   "metadata": {
    "collapsed": true
   },
   "outputs": [],
   "source": [
    "geoCSVcoord = result[1][0]"
   ]
  },
  {
   "cell_type": "code",
   "execution_count": 244,
   "metadata": {
    "collapsed": true
   },
   "outputs": [],
   "source": [
    "geoCoord = [x[0] for x in result[1:]]"
   ]
  },
  {
   "cell_type": "code",
   "execution_count": 245,
   "metadata": {
    "collapsed": false
   },
   "outputs": [],
   "source": [
    "myTOPO = {\n",
    "    'type': 'FeatureCollection',\n",
    "    'features':[{\n",
    "        \"type\": \"Feature\",\n",
    "        \"properties\": { },\n",
    "        \"geometry\":{ \n",
    "            \"type\": \"Polygon\", \n",
    "            \"coordinates\": geoCoord\n",
    "        }\n",
    "    }]\n",
    "}"
   ]
  },
  {
   "cell_type": "code",
   "execution_count": 246,
   "metadata": {
    "collapsed": true
   },
   "outputs": [],
   "source": [
    "with open('data.json', 'w') as outfile:\n",
    "    json.dump(myTOPO, outfile)"
   ]
  },
  {
   "cell_type": "code",
   "execution_count": 162,
   "metadata": {
    "collapsed": false
   },
   "outputs": [
    {
     "name": "stdout",
     "output_type": "stream",
     "text": [
      "0 ['WKT', 'POLY_', 'POLY_ID', 'AREA', 'PERIMETER', 'OPPR', 'X', 'Y', 'KOORDH', 'POSTNAVN', 'OPPDATDATO', 'MALEMETODE', 'NOYAKTIGHE', 'SYNBARHET', 'H_MALEMETO', 'H_NOYAKTIG', 'MAX_AVVIK', 'OBJTYPE', 'POSTNR', 'KOMM']\n"
     ]
    }
   ],
   "source": [
    "for (index, val) in enumerate(result):\n",
    "    print index, val\n",
    "    break"
   ]
  },
  {
   "cell_type": "markdown",
   "metadata": {},
   "source": [
    "### conda install gdal\n",
    "### npm install -g topojson\n",
    "### cmd: ogr2ogr -f geoJSON *name*.json *name*.shp\n",
    "### cmd: topojson -o *name*.json --id-property SU_A3 *name2*.json"
   ]
  },
  {
   "cell_type": "code",
   "execution_count": 247,
   "metadata": {
    "collapsed": false
   },
   "outputs": [],
   "source": [
    "with open(\"data.json\") as json_file:\n",
    "    json_data = json.load(json_file, encoding='iso-8859-1')"
   ]
  },
  {
   "cell_type": "code",
   "execution_count": 248,
   "metadata": {
    "collapsed": false
   },
   "outputs": [
    {
     "data": {
      "image/png": "[encoded data removed]",
      "text/plain": [
       "<matplotlib.figure.Figure at 0x153f9dd8>"
      ]
     },
     "metadata": {},
     "output_type": "display_data"
    }
   ],
   "source": [
    "#cid = fig.canvas.mpl_connect('button_press_event', onclick)\n",
    "deltaC = -1996136.9682796595\n",
    "deltaX = 37348.34088583822\n",
    "deltaY = 833761.7935026471\n",
    "\n",
    "#deltaX = 0#244101 - 59.982262\n",
    "#deltaY = 0#6.6583e+06 - 10.413351\n",
    "#59.900170, 10.369229\n",
    "BLUE = '#6699cc'\n",
    "fig = plt.figure(figsize=(150,10)) \n",
    "ax = fig.gca() \n",
    "for i in json_data['features']:\n",
    "    poly = copy.deepcopy(i['geometry'])\n",
    "    #poly['coordinates'][0] = [[-(x[0] - deltaC) / deltaX, -(x[1] - deltaC) / deltaY] for x in poly['coordinates'][0]]\n",
    "    ax.add_patch(PolygonPatch(poly, fc=BLUE, ec=BLUE, alpha=0.5, zorder=2 ))\n",
    "    ax.axis('scaled')\n",
    "    break\n",
    "\n",
    "#%matplotlib auto\n",
    "plt.show()"
   ]
  },
  {
   "cell_type": "markdown",
   "metadata": {},
   "source": [
    "## Start here"
   ]
  },
  {
   "cell_type": "code",
   "execution_count": 44,
   "metadata": {
    "collapsed": false
   },
   "outputs": [],
   "source": [
    "# прорисовка и проверка на коллижины\n",
    "# TODO: коллижины не по точкам, а по областям, а так же парсинг изоскопа\n",
    "class PostMatcher(object):\n",
    "    def __init__(self, points, all_postals = [], time = 9000):\n",
    "        if not type(points) is list or not type(points[0]) is dict:\n",
    "            # [float] in case we will change from 1 point to set of points\n",
    "            print \"points should be a list of objects: [{postal: *postalcode*, x: *[float]*, y: *[float]*}]\"\n",
    "            raise Exception(points)\n",
    "        self.points = points\n",
    "        self.all_postals = all_postals\n",
    "        self.time_space = []\n",
    "        self.time = time\n",
    "        \n",
    "    def to_array(self, arr):\n",
    "        x, y = [], []\n",
    "        for i in arr:\n",
    "            d = i.split(',')\n",
    "            x.append(float(d[0]))\n",
    "            y.append(float(d[1]))\n",
    "        return x, y\n",
    "            \n",
    "    # thx and soz http://www.flаvіоgоrtаnа.com/isоscоpe/ - don't copy it, there're cyryllic letters\n",
    "    def getSpace(self, postal, x, y, time): # time in seconds\n",
    "        # gonna impelement parsing here\n",
    "        arr = [\"59.8720551,10.7900333\",\"59.8720551,10.7913208\",\"59.8722267,10.7918358\",\"59.87257,10.7921791\",\"59.8729134,10.7932091\",\"59.8732567,10.7935524\",\"59.8734283,10.7940674\",\"59.8734283,10.794754\",\"59.8736,10.795269\",\"59.8742867,10.7959557\",\"59.87463,10.7959557\",\"59.8749733,10.7956123\",\"59.8754883,10.7954407\",\"59.8761749,10.7954407\",\"59.8766899,10.7956123\",\"59.8773766,10.796299\",\"59.8775482,10.796814\",\"59.8775482,10.7975006\",\"59.8777199,10.7980156\",\"59.8780632,10.7980156\",\"59.8782349,10.7975006\",\"59.8782349,10.7961273\",\"59.8784065,10.7956123\",\"59.8797798,10.794239\",\"59.8801231,10.794239\",\"59.8814964,10.7956123\",\"59.8816681,10.7961273\",\"59.8816681,10.7975006\",\"59.8818398,10.7980156\",\"59.8821831,10.7983589\",\"59.8823547,10.7988739\",\"59.8823547,10.7995605\",\"59.8825264,10.8000755\",\"59.8835564,10.8004189\",\"59.8838997,10.8007622\",\"59.8844147,10.8009338\",\"59.8849297,10.8007622\",\"59.8859596,10.7997322\",\"59.8864746,10.7995605\",\"59.8871613,10.7995605\",\"59.8876762,10.7997322\",\"59.8880196,10.8007622\",\"59.8883629,10.8011055\",\"59.8885345,10.8016205\",\"59.8885345,10.8023071\",\"59.8887062,10.8028221\",\"59.8890495,10.8028221\",\"59.8893929,10.8024788\",\"59.8904228,10.8021355\",\"59.8907661,10.8017921\",\"59.8912811,10.8016205\",\"59.8919678,10.8016205\",\"59.8924828,10.8014488\",\"59.8928261,10.8011055\",\"59.8933411,10.8009338\",\"59.893856,10.8011055\",\"59.8941994,10.8014488\",\"59.8947144,10.8016205\",\"59.895401,10.8016205\",\"59.895916,10.8017921\",\"59.8966026,10.8024788\",\"59.8967743,10.8029938\",\"59.8967743,10.8050537\",\"59.896946,10.8055687\",\"59.8972893,10.805912\",\"59.8974609,10.806427\",\"59.8974609,10.8078003\",\"59.8976326,10.8083153\",\"59.8979759,10.8086586\",\"59.8983192,10.8096886\",\"59.8986626,10.8100319\",\"59.8990059,10.8110619\",\"59.8993492,10.8114052\",\"59.8995209,10.8119202\",\"59.8995209,10.8139801\",\"59.8993492,10.8144951\",\"59.8990059,10.8148384\",\"59.8986626,10.8158684\",\"59.8981476,10.81604\",\"59.8974609,10.81604\",\"59.896946,10.8158684\",\"59.8966026,10.8148384\",\"59.8962593,10.8144951\",\"59.895916,10.8134651\",\"59.8955727,10.8131218\",\"59.8952293,10.8120918\",\"59.894886,10.8117485\",\"59.8947144,10.8112335\",\"59.8947144,10.8098602\",\"59.8945427,10.8093452\",\"59.8940277,10.8091736\",\"59.8935127,10.8093452\",\"59.8928261,10.8100319\",\"59.8926544,10.8105469\",\"59.8926544,10.8112335\",\"59.8924828,10.8117485\",\"59.8921394,10.8120918\",\"59.8917961,10.8131218\",\"59.8912811,10.8132935\",\"59.8905945,10.8132935\",\"59.8900795,10.8134651\",\"59.8890495,10.8144951\",\"59.8885345,10.8146667\",\"59.8878479,10.8146667\",\"59.8873329,10.8144951\",\"59.8869896,10.8134651\",\"59.8866463,10.8134651\",\"59.8863029,10.8144951\",\"59.8859596,10.8148384\",\"59.885788,10.8153534\",\"59.885788,10.81604\",\"59.8859596,10.816555\",\"59.8863029,10.8168983\",\"59.8864746,10.8174133\",\"59.8864746,10.8194733\",\"59.8863029,10.8199883\",\"59.8859596,10.8203316\",\"59.885788,10.8208466\",\"59.885788,10.8229065\",\"59.8856163,10.8234215\",\"59.885273,10.8237648\",\"59.8851013,10.8242798\",\"59.8851013,10.8249664\",\"59.8849297,10.8254814\",\"59.8845863,10.8258247\",\"59.884243,10.8268547\",\"59.883213,10.8278847\",\"59.8830414,10.8283997\",\"59.8830414,10.8290863\",\"59.8828697,10.8296013\",\"59.8825264,10.8299446\",\"59.8823547,10.8304596\",\"59.8825264,10.8309746\",\"59.8845863,10.8330345\",\"59.8851013,10.8332062\",\"59.8856163,10.8330345\",\"59.8859596,10.8326912\",\"59.8864746,10.8325195\",\"59.8885345,10.8325195\",\"59.8890495,10.8323479\",\"59.8893929,10.8320045\",\"59.8899078,10.8318329\",\"59.8905945,10.8318329\",\"59.8911095,10.8320045\",\"59.8914528,10.8330345\",\"59.8917961,10.8333778\",\"59.8919678,10.8338928\",\"59.8919678,10.8345795\",\"59.8917961,10.8350945\",\"59.8914528,10.8354378\",\"59.8912811,10.8359528\",\"59.8912811,10.8366394\",\"59.8911095,10.8371544\",\"59.8900795,10.8381844\",\"59.8897362,10.8392143\",\"59.8890495,10.839901\",\"59.8885345,10.8400726\",\"59.8880196,10.839901\",\"59.8869896,10.838871\",\"59.8864746,10.8386993\",\"59.885788,10.8386993\",\"59.885273,10.838871\",\"59.8845863,10.8395576\",\"59.884243,10.8405876\",\"59.883213,10.8409309\",\"59.8830414,10.8414459\",\"59.8830414,10.8421326\",\"59.8828697,10.8426476\",\"59.8818398,10.8429909\",\"59.8814964,10.8433342\",\"59.8809814,10.8435059\",\"59.8796082,10.8435059\",\"59.8790932,10.8433342\",\"59.8784065,10.8426476\",\"59.8782349,10.8421326\",\"59.8782349,10.8366394\",\"59.8784065,10.8361244\",\"59.8790932,10.8354378\",\"59.8801231,10.8350945\",\"59.8801231,10.8347511\",\"59.8797798,10.8344078\",\"59.8796082,10.8338928\",\"59.8796082,10.8332062\",\"59.8794365,10.8326912\",\"59.8790932,10.8326912\",\"59.8784065,10.8333778\",\"59.8780632,10.8344078\",\"59.8775482,10.8345795\",\"59.8768616,10.8345795\",\"59.8763466,10.8344078\",\"59.8756599,10.8337212\",\"59.8754883,10.8332062\",\"59.8754883,10.8325195\",\"59.8753166,10.8320045\",\"59.8749733,10.8320045\",\"59.8748016,10.8325195\",\"59.8748016,10.8345795\",\"59.87463,10.8350945\",\"59.8742867,10.8354378\",\"59.8739433,10.8364677\",\"59.8734283,10.8366394\",\"59.8727417,10.8366394\",\"59.8722267,10.8364677\",\"59.8718834,10.8361244\",\"59.8715401,10.8361244\",\"59.8708534,10.8368111\",\"59.8706818,10.837326\",\"59.8706818,10.8380127\",\"59.8705101,10.8385277\",\"59.8699951,10.8386993\",\"59.8693085,10.8386993\",\"59.8687935,10.8385277\",\"59.8681068,10.837841\",\"59.8679352,10.837326\",\"59.8679352,10.8345795\",\"59.8677635,10.8338928\",\"59.8672485,10.8333778\",\"59.8665619,10.8332062\",\"59.8658752,10.8332062\",\"59.8653603,10.8333778\",\"59.8633003,10.8354378\",\"59.8631287,10.8359528\",\"59.8631287,10.837326\",\"59.862957,10.837841\",\"59.862442,10.8380127\",\"59.8610687,10.8380127\",\"59.8605537,10.837841\",\"59.8603821,10.837326\",\"59.8603821,10.8345795\",\"59.8602104,10.8340645\",\"59.8596954,10.8338928\",\"59.8590088,10.8338928\",\"59.8584938,10.8340645\",\"59.8581505,10.8344078\",\"59.8571205,10.8347511\",\"59.8567772,10.8350945\",\"59.8557472,10.8354378\",\"59.8554039,10.8357811\",\"59.8543739,10.8361244\",\"59.8540306,10.8364677\",\"59.8530006,10.8368111\",\"59.8526573,10.8371544\",\"59.8516273,10.8374977\",\"59.8505974,10.8385277\",\"59.8495674,10.838871\",\"59.8492241,10.8392143\",\"59.8487091,10.839386\",\"59.8481941,10.8392143\",\"59.8475075,10.8385277\",\"59.8473358,10.8380127\",\"59.8473358,10.8345795\",\"59.8475075,10.8340645\",\"59.8485374,10.8330345\",\"59.8487091,10.8325195\",\"59.8487091,10.8290863\",\"59.8488808,10.8285713\",\"59.8493958,10.8283997\",\"59.8500824,10.8283997\",\"59.8505974,10.8285713\",\"59.851284,10.829258\",\"59.8514557,10.8297729\",\"59.8514557,10.8304596\",\"59.8516273,10.8309746\",\"59.8521423,10.8311462\",\"59.8526573,10.8309746\",\"59.8530006,10.8306313\",\"59.8540306,10.8302879\",\"59.8543739,10.8299446\",\"59.8554039,10.8296013\",\"59.8557472,10.829258\",\"59.8567772,10.8289146\",\"59.8571205,10.8285713\",\"59.8576355,10.8283997\",\"59.8583221,10.8283997\",\"59.8588371,10.828228\",\"59.8590088,10.827713\",\"59.8590088,10.8263397\",\"59.8591805,10.8258247\",\"59.8602104,10.8247948\",\"59.8603821,10.8242798\",\"59.8603821,10.8229065\",\"59.8602104,10.8223915\",\"59.8598671,10.8220482\",\"59.8596954,10.8215332\",\"59.8596954,10.8208466\",\"59.8595238,10.8203316\",\"59.8591805,10.8199883\",\"59.8590088,10.8194733\",\"59.8591805,10.8189583\",\"59.8595238,10.818615\",\"59.8596954,10.8181\",\"59.8596954,10.8174133\",\"59.8595238,10.8168983\",\"59.8591805,10.816555\",\"59.8590088,10.81604\",\"59.8590088,10.8119202\",\"59.8591805,10.8114052\",\"59.8598671,10.8107185\",\"59.8603821,10.8105469\",\"59.8608971,10.8107185\",\"59.8615837,10.8114052\",\"59.861927,10.8124352\",\"59.8622704,10.8124352\",\"59.862442,10.8119202\",\"59.862442,10.8078003\",\"59.8626137,10.8072853\",\"59.8636436,10.8062553\",\"59.8638153,10.8057404\",\"59.8638153,10.8036804\",\"59.863987,10.8031654\",\"59.8646736,10.8024788\",\"59.8657036,10.8021355\",\"59.8660469,10.8011055\",\"59.8670769,10.8000755\",\"59.8672485,10.7995605\",\"59.8672485,10.796814\",\"59.8674202,10.796299\",\"59.8677635,10.7959557\",\"59.8681068,10.7949257\",\"59.8691368,10.7945824\",\"59.8693085,10.7940674\",\"59.8693085,10.7899475\",\"59.8694801,10.7894325\",\"59.8699951,10.7892609\",\"59.8713684,10.7892609\",\"59.8718834,10.7893467\",\"59.8720551,10.7896042\",\"59.8720551,10.7900333\"]\n",
    "        lat, lon = self.to_array(arr)\n",
    "        return {'postal': postal, 'x': x, 'y': y, 'dest_lat': lat, 'dest_lon': lon}\n",
    "                \n",
    "    # checking whether there's collision\n",
    "    # element: {postal: string, dest_lat: [float], dest_lon: [float]}\n",
    "    # check_with: [{postal: string, x: float, y: float}]\n",
    "    def check_collision(self, element, check_with):\n",
    "        result = {'postal': element['postal'], 'intersects': [], 'nonintersect': []}\n",
    "        # getting our path Area\n",
    "        path_data = []\n",
    "        path_data.append((mplPath.Path.MOVETO, (element['dest_lat'][0], element['dest_lon'][1])))\n",
    "        for x, y in itertools.izip(element['dest_lat'][1:], element['dest_lon'][1:]):\n",
    "            path_data.append((mplPath.Path.LINETO, (x, y)))\n",
    "        # closing our rectangle\n",
    "        path_data.append((mplPath.Path.LINETO, (element['dest_lat'][0], element['dest_lon'][0])))\n",
    "        # formating it for matplotlib.Path\n",
    "        codes, verts = zip(*path_data)\n",
    "        path = mplPath.Path(verts, codes)\n",
    "        # checking intersections\n",
    "        for i, val in enumerate(check_with):\n",
    "            if path.contains_point((val['x'], val['y'])):\n",
    "                # should add check for dublicates\n",
    "                result['intersects'].append(val)\n",
    "            else:\n",
    "                result['nonintersect'].append(val)\n",
    "        return result\n",
    "        \n",
    "    \n",
    "    def draw(self, elements, markers = [], **kwargs):\n",
    "        fileName = kwargs.get('fileName',\"map.html\")\n",
    "        \n",
    "        x = reduce(lambda cur_el, next_el: np.average(cur_el['dest_lat']) + np.average(next_el['dest_lat']), elements)\\\n",
    "                                    / float(len(elements))\n",
    "        y = reduce(lambda cur_el, next_el: np.average(cur_el['dest_lon']) + np.average(next_el['dest_lon']), elements)\\\n",
    "                                    / float(len(elements))\n",
    "        \n",
    "        zoomLevel = kwargs.get('zoomLevel', 12)\n",
    "        gmap = gmplot.GoogleMapPlotter(x, y, zoomLevel)\n",
    "        \n",
    "        colorTypes = [\n",
    "            'cornflowerblue',\n",
    "            'khaki',\n",
    "            'forestgreen'\n",
    "        ]\n",
    "        colorCounter = 0\n",
    "        colorTypesLength = len(colorTypes) - 1\n",
    "        for element in elements:    \n",
    "            gmap.polygon(element['dest_lat'], element['dest_lon'], colorTypes[colorCounter], edge_width=10)\n",
    "            colorCounter += 1\n",
    "            if colorCounter> colorTypesLength:\n",
    "                colorCounter = 0\n",
    "        # drawing needed markers\n",
    "        for i in markers:\n",
    "            print i\n",
    "            gmap.marker(i['x'], i['y'], title=i['postal'])\n",
    "        gmap.draw(fileName)\n",
    "        # проблема в правах доступа и маркер не подтягивает(он находится в папке с библиотекой, а Chrome не дает к ней доступ)\n",
    "        data = []\n",
    "        with open(fileName, 'r') as f:\n",
    "            data = f.read().replace(\"icon: img,\", 'icon: \"\",')\n",
    "        os.remove(fileName)\n",
    "        with open(fileName, 'a') as f:\n",
    "            f.write(data)\n",
    "        display(IFrame(fileName, height = 500, width = \"90%\"))\n",
    "\n",
    "\n",
    "    def renderSingle(self, postal, x, y, time, re_render = False):\n",
    "        # don't use that func often, plx, or use it only when you're SURE (it's parsing site)\n",
    "        for i, val in enumerate(self.time_space):\n",
    "            if val['postal'] == postal:\n",
    "                if not re_render: \n",
    "                    break\n",
    "                self.time_space[i] = self.getSpace(postal, x, y, time)\n",
    "                break\n",
    "            else:\n",
    "                self.time_space.append(self.getSpace(postal, x, y, time))\n",
    "                \n",
    "        if len(self.time_space) == 0:\n",
    "            self.time_space.append(self.getSpace(postal, x, y, time))\n",
    "            \n",
    "        return 0\n",
    "    \n",
    "    def renderAll(self, re_render = False): # time = 2.5 hours\n",
    "        for i in self.points:\n",
    "            self.renderSingle(i['postal'], i['x'][0], i['y'][0], self.time, re_render)\n",
    "        return self.time_space"
   ]
  },
  {
   "cell_type": "code",
   "execution_count": 159,
   "metadata": {
    "collapsed": false
   },
   "outputs": [
    {
     "name": "stdout",
     "output_type": "stream",
     "text": [
      "http://maps.googleapis.com/maps/api/geocode/json?components=country:NO%7Cpostal_code:3684&sensor=false\n"
     ]
    },
    {
     "data": {
      "text/html": [
       "\n",
       "        <iframe\n",
       "            width=\"90%\"\n",
       "            height=\"500\"\n",
       "            src=\"mymap.html\"\n",
       "            frameborder=\"0\"\n",
       "            allowfullscreen\n",
       "        ></iframe>\n",
       "        "
      ],
      "text/plain": [
       "<IPython.lib.display.IFrame at 0x169ae5f8>"
      ]
     },
     "metadata": {},
     "output_type": "display_data"
    }
   ],
   "source": [
    "# эти функции нужно будет закинуь в класс\n",
    "def readUrl(url):\n",
    "    headers = {\n",
    "        'User-Agent': 'Mozilla/5.0 (Macintosh; Intel Mac OS X 10_10_1)'\\\n",
    "            + ' AppleWebKit/537.36 (KHTML, like Gecko) Chrome/39.0.2171.95 Safari/537.36'\n",
    "    }\n",
    "    page = requests.get(url, headers=headers)\n",
    "    return page.content\n",
    "\n",
    "def location(postcode):\n",
    "    url = \"http://maps.googleapis.com/maps/api/geocode/json?components=country:NO%7Cpostal_code:\"\\\n",
    "          + postcode\\\n",
    "          + \"&sensor=false\"\n",
    "    print url\n",
    "    response = readUrl(url)\n",
    "    data = json.loads(response)\n",
    "    bounds = data['results'][0][\"geometry\"]['bounds']\n",
    "    # creating Rhombus\n",
    "    latitudes =  [\n",
    "        (bounds['northeast']['lat'] + bounds['southwest']['lat'])/2,\n",
    "        bounds['northeast']['lat'],\n",
    "        (bounds['northeast']['lat'] + bounds['southwest']['lat'])/2,\n",
    "        bounds['southwest']['lat']\n",
    "    ]\n",
    "    longitudes =  [\n",
    "        bounds['southwest']['lng'],\n",
    "        (bounds['northeast']['lng'] + bounds['southwest']['lng'])/2,\n",
    "        bounds['northeast']['lng'],\n",
    "        (bounds['northeast']['lng'] + bounds['southwest']['lng'])/2\n",
    "    ]\n",
    "   \n",
    "    return latitudes, longitudes\n",
    "\n",
    "# testing\n",
    "# нужно бы ещё парсинг добавить и будет гуд\n",
    "#latitudes = 59.87349399999999\n",
    "#longitudes = 10.8140581\n",
    "latitudes, longitudes = location(\"3684\")\n",
    "#####################################################################\n",
    "# должен использоваться для выкачки с изоскоупа, сейчас не работает(принимал точку с latitudes, longitudes(центральную))\n",
    "# как вариант в будущем просто изменить на точки от зайца)\n",
    "#####################################################################\n",
    "points = [{\n",
    "        'postal' : 'TEST',\n",
    "        'x' : latitudes,\n",
    "        'y' : longitudes\n",
    "    }]\n",
    "\n",
    "# проверяем есть ли эти точки попадают в нашу зону.\n",
    "check_with = [{\n",
    "        'postal' : 'COLLISION_TRUE',\n",
    "        'x': latitudes[0],\n",
    "        'y': longitudes[0]\n",
    "    },{\n",
    "        'postal' : 'COLLISION_FALSE',\n",
    "        'x': latitudes[0] + 50,\n",
    "        'y': longitudes[0] + 50\n",
    "    }]\n",
    "\n",
    "# отображение нашего \"ромба\"\n",
    "check = {'dest_lat': latitudes, 'dest_lon': longitudes}\n",
    "test_single = PostMatcher(points)\n",
    "test_single.renderAll()\n",
    "\n",
    "collisions_test = test_single.check_collision(test_single.time_space[0], check_with)\n",
    "# drawing test\n",
    "test_single.draw([test_single.time_space[0], check], collisions_test['intersects'], fileName='mymap.html')\n",
    "# sometimes image just won't show - experiment with file name: change it to random and try again\n",
    "# if that don't work try it over and over again)\n",
    "# error(f12->console): \n",
    "# Google Maps API error: MissingKeyMapError https://developers.google.com/maps/documentation/javascript/error-messages#missing-key-map-error_.jb @ js?libraries=visualization&sensor=true_or_false:34\n"
   ]
  },
  {
   "cell_type": "code",
   "execution_count": 142,
   "metadata": {
    "collapsed": false
   },
   "outputs": [
    {
     "name": "stdout",
     "output_type": "stream",
     "text": [
      "[59.9278667, 59.98219239999999, 59.8990717]\n",
      "[10.4096787, 10.4695138, 10.3480218]\n"
     ]
    }
   ],
   "source": [
    "def location(postcode):\n",
    "    url = \"http://maps.googleapis.com/maps/api/geocode/json?components=country:NO%7Cpostal_code:\"\\\n",
    "          + postcode\\\n",
    "          + \"&sensor=false\"\n",
    "    response = readUrl(url)\n",
    "    data = json.loads(response)\n",
    "    bounds = data['results'][0][\"geometry\"]['bounds']\n",
    "    \n",
    "    \n",
    "    latitudes =  [data['results'][0][\"geometry\"][\"location\"][\"lat\"], bounds['northeast']['lat'], bounds['southwest']['lat']]\n",
    "    longitudes =  [data['results'][0][\"geometry\"][\"location\"][\"lng\"], bounds['northeast']['lng'], bounds['southwest']['lng']]\n",
    "    \n",
    "    print latitudes\n",
    "    print longitudes    \n",
    "    return latitudes, longitudes\n",
    "\n",
    "lat, lon = location('1340')\n",
    "#{u'status': u'ZERO_RESULTS', u'results': []}\n",
    "#latitudes, longitudes = location(\"1151\")"
   ]
  },
  {
   "cell_type": "code",
   "execution_count": 10,
   "metadata": {
    "collapsed": true
   },
   "outputs": [],
   "source": [
    "def draw(element, markers = [], **kwargs):\n",
    "    fileName = kwargs.get('fileName',\"map.html\")\n",
    "    zoomLevel = kwargs.get('zoomLevel', 12)\n",
    "\n",
    "    x = sum(element['dest_lat'])/len(element['dest_lat'])\n",
    "    y = sum(element['dest_lon'])/len(element['dest_lon'])\n",
    "\n",
    "    gmap = gmplot.GoogleMapPlotter(x, y, zoomLevel)\n",
    "    # drawing main area\n",
    "    gmap.polygon(element['dest_lat'], element['dest_lon'], 'cornflowerblue', edge_width=10)\n",
    "    # drawing needed markers\n",
    "    for i in markers:\n",
    "        print i\n",
    "        gmap.marker(i['x'], i['y'], title=i['postal'])\n",
    "    gmap.draw(fileName)\n",
    "    # проблема в правах доступа и маркер не подтягивает(он находится в папке с библиотекой, а Chrome не дает к ней доступ)\n",
    "    data = []\n",
    "    with open(fileName, 'r') as f:\n",
    "        data = f.read().replace(\"icon: img,\", 'icon: \"\",')\n",
    "    os.remove(fileName)\n",
    "    with open(fileName, 'a') as f:\n",
    "        f.write(data)\n",
    "    display(IFrame(fileName, height = 500, width = \"90%\"))"
   ]
  },
  {
   "cell_type": "code",
   "execution_count": 24,
   "metadata": {
    "collapsed": true
   },
   "outputs": [],
   "source": [
    "import pandas as pd"
   ]
  },
  {
   "cell_type": "code",
   "execution_count": 94,
   "metadata": {
    "collapsed": false
   },
   "outputs": [],
   "source": [
    "def avg(row):\n",
    "    res = reduce(lambda x, y: x + y, row) / float(len(row))\n",
    "    if res > 0:\n",
    "        return res\n",
    "    else:\n",
    "        return 0"
   ]
  },
  {
   "cell_type": "code",
   "execution_count": 110,
   "metadata": {
    "collapsed": false
   },
   "outputs": [
    {
     "name": "stdout",
     "output_type": "stream",
     "text": [
      "1 2014\n",
      "1 2015\n",
      "1 2016\n"
     ]
    }
   ],
   "source": [
    "df = pd.read_excel('todo.xlsx').fillna(0)\n",
    "name = list(df.columns.values)[1:-3]\n",
    "quarter = 1\n",
    "interval = 3\n",
    "year = 2014\n",
    "\"\"\"for i in range(0, len(name), interval):\n",
    "    colName = 'Q' + str(quarter) + ' ' + str(year)\n",
    "    df[colName] = df[[name[x] for x in range(i, i+interval)]].apply(avg, axis=1)\n",
    "    print quarter, year\n",
    "    quarter += 1\n",
    "    if(quarter > 4):\n",
    "        quarter = 1\n",
    "        year += 1\n",
    "\"\"\"\n",
    "year = 2014\n",
    "interval = 12\n",
    "for i in range(0, len(name), interval):\n",
    "    colName = 'Year ' + str(year)\n",
    "    df[colName] = df[[name[x] for x in range(i, i+interval)]].apply(avg, axis=1)\n",
    "    print quarter, year\n",
    "    year += 1"
   ]
  },
  {
   "cell_type": "code",
   "execution_count": 111,
   "metadata": {
    "collapsed": false
   },
   "outputs": [],
   "source": [
    "bench_names = list(df.columns.values)[-12:]\n",
    "bench_names.insert(0, 'Main Skill')\n",
    "bench = df[bench_names]\n",
    "bench.to_excel('todone.xlsx')"
   ]
  },
  {
   "cell_type": "code",
   "execution_count": null,
   "metadata": {
    "collapsed": true
   },
   "outputs": [],
   "source": []
  }
 ],
 "metadata": {
  "anaconda-cloud": {},
  "kernelspec": {
   "display_name": "Python 2",
   "language": "python",
   "name": "python2"
  },
  "language_info": {
   "codemirror_mode": {
    "name": "ipython",
    "version": 2
   },
   "file_extension": ".py",
   "mimetype": "text/x-python",
   "name": "python",
   "nbconvert_exporter": "python",
   "pygments_lexer": "ipython2",
   "version": "2.7.12"
  }
 },
 "nbformat": 4,
 "nbformat_minor": 0
}
